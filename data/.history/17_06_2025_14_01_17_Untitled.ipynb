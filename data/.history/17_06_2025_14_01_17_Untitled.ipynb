{
 "cells": [
  {
   "cell_type": "markdown",
   "id": "c9066133-72c2-42c5-a200-ba18016f5dcc",
   "metadata": {},
   "source": [
    "Step 1: Loading the libraries and setting the height and width of the graph"
   ]
  },
  {
   "cell_type": "code",
   "execution_count": null,
   "id": "bd9d29b3-68fc-4383-b0a0-c63d0acc612d",
   "metadata": {},
   "outputs": [],
   "source": [
    "#importing the libraries\n",
    "#  Visualization\n",
    "library(ggplot2)\n",
    "\n",
    "# Data manipulation\n",
    "library(tibble)\n",
    "library(dplyr)\n",
    "library(tidyr)\n",
    "library(purrr)\n",
    "library(readr)\n",
    "\n",
    "# Modelling and Preprocessing\n",
    "library(tidymodels)\n",
    "\n",
    "# Data splitting and resampling\n",
    "library(rsample) # train_test_split_equivalent\n",
    "library(tune) # GridSearchCV equivalent\n",
    "library(workflows) #make_pipeline equivalent\n",
    "library(recipes) #make_column_transformer and StandardScaler equivalent\n",
    "\n",
    "# Metrics\n",
    "library(yardstick) # for mean squared error\n",
    "\n",
    "#Time and Dates\n",
    "library(lubridate)\n",
    "\n",
    "\n",
    "#formatting graphs\n",
    "options(repr.plot.width=12, repr.plot.height=6)"
   ]
  },
  {
   "cell_type": "markdown",
   "id": "5b91f01f-070f-41d5-b037-0e3e488c8334",
   "metadata": {},
   "source": [
    "Step 2: Loading the data into R"
   ]
  },
  {
   "cell_type": "code",
   "execution_count": null,
   "id": "b7d3ae43-ace7-466b-8d86-22ccb60dcd9c",
   "metadata": {},
   "outputs": [],
   "source": [
    "#loading data into R\n",
    "players<-read_csv(\"players.csv\")\n",
    "players\n",
    "sessions<- read_csv(\"sessions.csv\")\n",
    "sessions"
   ]
  },
  {
   "cell_type": "code",
   "execution_count": null,
   "id": "58b9feb1-86c2-432c-9066-92fd77fd3514",
   "metadata": {},
   "outputs": [],
   "source": [
    "# CONVERT START_TIME AND END_TIME TO DATETIME\n",
    "sessions<-sessions|>\n",
    "mutate( start_time= dmy_hm(start_time), end_time= dmy_hm(end_time))\n",
    "sessions\n"
   ]
  },
  {
   "cell_type": "code",
   "execution_count": null,
   "id": "d26ca0f8-c4a1-46cf-977b-6b6016b7b503",
   "metadata": {},
   "outputs": [],
   "source": [
    "#CONVERT THE TIMEZONE FROM GMT TO PST\n",
    "sessions<-sessions|>\n",
    "mutate( start_time= force_tz( start_time, tzone= \"GMT\") |> \n",
    "                             with_tz (\"America/Los_Angeles\"), \n",
    "                             end_time= force_tz( end_time, tzone= \"America/Los_Angeles\") |> \n",
    "       with_tz (\"PST\"))\n"
   ]
  },
  {
   "cell_type": "code",
   "execution_count": null,
   "id": "4ae2cf5f-7868-465b-95cf-c16e3ab1b842",
   "metadata": {},
   "outputs": [],
   "source": []
  }
 ],
 "metadata": {
  "kernelspec": {
   "display_name": "R",
   "language": "R",
   "name": "ir"
  },
  "language_info": {
   "codemirror_mode": "r",
   "file_extension": ".r",
   "mimetype": "text/x-r-source",
   "name": "R",
   "pygments_lexer": "r",
   "version": "4.3.3"
  }
 },
 "nbformat": 4,
 "nbformat_minor": 5
}
