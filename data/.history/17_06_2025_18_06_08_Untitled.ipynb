{
 "cells": [
  {
   "cell_type": "markdown",
   "id": "c9066133-72c2-42c5-a200-ba18016f5dcc",
   "metadata": {},
   "source": [
    "Step 1: Loading the libraries and setting the height and width of the graph"
   ]
  },
  {
   "cell_type": "code",
   "execution_count": null,
   "id": "bd9d29b3-68fc-4383-b0a0-c63d0acc612d",
   "metadata": {},
   "outputs": [],
   "source": [
    "#importing the libraries\n",
    "#  Visualization\n",
    "library(ggplot2)\n",
    "\n",
    "# Data manipulation\n",
    "library(tibble)\n",
    "library(dplyr)\n",
    "library(tidyr)\n",
    "library(purrr)\n",
    "library(readr)\n",
    "\n",
    "# Modelling and Preprocessing\n",
    "library(tidymodels)\n",
    "\n",
    "# Data splitting and resampling\n",
    "library(rsample) # train_test_split_equivalent\n",
    "library(tune) # GridSearchCV equivalent\n",
    "library(workflows) #make_pipeline equivalent\n",
    "library(recipes) #make_column_transformer and StandardScaler equivalent\n",
    "\n",
    "# Metrics\n",
    "library(yardstick) # for mean squared error\n",
    "\n",
    "#Time and Dates\n",
    "library(lubridate)\n",
    "\n",
    "\n",
    "#formatting graphs\n",
    "options(repr.plot.width=12, repr.plot.height=6)"
   ]
  },
  {
   "cell_type": "markdown",
   "id": "5b91f01f-070f-41d5-b037-0e3e488c8334",
   "metadata": {},
   "source": [
    "Step 2: Loading the data into R"
   ]
  },
  {
   "cell_type": "code",
   "execution_count": null,
   "id": "b7d3ae43-ace7-466b-8d86-22ccb60dcd9c",
   "metadata": {},
   "outputs": [],
   "source": [
    "#loading data into R\n",
    "players<-read_csv(\"players.csv\")\n",
    "players\n",
    "sessions<- read_csv(\"sessions.csv\")\n",
    "sessions"
   ]
  },
  {
   "cell_type": "code",
   "execution_count": null,
   "id": "58b9feb1-86c2-432c-9066-92fd77fd3514",
   "metadata": {},
   "outputs": [],
   "source": [
    "# CONVERT START_TIME AND END_TIME TO DATETIME\n",
    "sessions<-sessions|>\n",
    "mutate( start_time= dmy_hm(start_time), end_time= dmy_hm(end_time))\n",
    "sessions\n"
   ]
  },
  {
   "cell_type": "code",
   "execution_count": null,
   "id": "d26ca0f8-c4a1-46cf-977b-6b6016b7b503",
   "metadata": {},
   "outputs": [],
   "source": [
    "#CONVERT THE TIMEZONE FROM GMT TO PST\n",
    "sessions <- sessions |>\n",
    "  mutate(\n",
    "    start_time = with_tz(force_tz(start_time, tzone = \"GMT\"), tzone = \"America/Los_Angeles\"),\n",
    "    end_time = with_tz(force_tz(end_time, tzone = \"GMT\"), tzone = \"America/Los_Angeles\")\n",
    "  )\n",
    "sessions \n"
   ]
  },
  {
   "cell_type": "markdown",
   "id": "1ded7821-9dcb-4286-84ab-56a6c2f566b1",
   "metadata": {},
   "source": [
    "WRANGLING DATA"
   ]
  },
  {
   "cell_type": "code",
   "execution_count": null,
   "id": "f3ea5f00-f180-482c-a700-a2c6942250c6",
   "metadata": {},
   "outputs": [],
   "source": [
    "#Creating an hourly time range\n",
    "hours<- seq(from= floor_date(min(sessions$start_time, na.rm = TRUE), unit= \"hour\"), \n",
    "            to = ceiling_date(max(sessions$end_time, na.rm = TRUE), unit= \"hour\"), \n",
    "            by=\"1 hour\")\n",
    "head(hours)\n"
   ]
  },
  {
   "cell_type": "code",
   "execution_count": null,
   "id": "9d3e93ea-e384-4174-ac94-8cf6cf941f4b",
   "metadata": {},
   "outputs": [],
   "source": [
    "#Count how many sessions are active during each hour\n",
    "concurrent_sessions<-map_dfr(hours, function(h){\n",
    "active_players <- sum(sessions$start_time <= h & sessions$end_time >= h)\n",
    "tibble( time=h, active_sessions = active_players)})\n",
    "head(concurrent_sessions)"
   ]
  },
  {
   "cell_type": "code",
   "execution_count": null,
   "id": "34084c4b-9b97-4c61-97c7-84603c02decd",
   "metadata": {},
   "outputs": [],
   "source": [
    "#Extracting day of week\n",
    "concurrent_sessions <- concurrent_sessions|>\n",
    "mutate(day_of_week =wday(time, label = TRUE, abbr = FALSE))\n",
    "concurrent_sessions\n"
   ]
  },
  {
   "cell_type": "code",
   "execution_count": null,
   "id": "f0ec21bf-eec0-45d1-aa78-d53f919d12a7",
   "metadata": {},
   "outputs": [],
   "source": [
    "# Create weekday sessions\n",
    "weekday_sessions <-concurrent_sessions|>\n",
    "filter(day_of_week %in% c (\"Monday\", \"Tuesday\", \"Wednesday\", \"Thursday\", \"Friday\"))|>\n",
    "mutate( day_of_end =\"weekday\")\n",
    "head(weekday_sessions)"
   ]
  },
  {
   "cell_type": "code",
   "execution_count": null,
   "id": "f9147ccc-58b1-446a-b4ef-21e30ca9ad35",
   "metadata": {},
   "outputs": [],
   "source": [
    "# Create weekend sessions\n",
    "weekend_sessions <- concurrent_sessions |>\n",
    "  filter(day_of_week %in% c(\"Saturday\", \"Sunday\")) |>\n",
    "  mutate(day_or_end = \"weekend\")\n",
    "head( weekend_sessions)"
   ]
  },
  {
   "cell_type": "code",
   "execution_count": null,
   "id": "cc28297d-7561-4417-8e43-3645bfe774fa",
   "metadata": {},
   "outputs": [],
   "source": [
    "# Calculate sessions duration \n",
    "sessions_durations <- sessions |>\n",
    "  mutate(\n",
    "    play_duration_minutes = as.numeric(difftime(end_time, start_time, units = \"mins\")),\n",
    "    day_of_week = wday(start_time, label = TRUE, abbr = FALSE),\n",
    "    start_hour = hour(start_time),\n",
    "    start_time_of_day = hour(start_time) + minute(start_time) / 60\n",
    "  ) |>\n",
    "  filter(play_duration_minutes > 0)\n",
    "head(sessions_durations)"
   ]
  },
  {
   "cell_type": "code",
   "execution_count": null,
   "id": "694ab54a-7ad9-4262-80ef-93a94ea9d1ed",
   "metadata": {},
   "outputs": [],
   "source": [
    "#Show concurrent sessions by hour and the plot\n",
    "\n",
    "concurrent_sessions<- concurrent_sessions|>\n",
    "mutate(hour= hour(time))\n",
    "\n",
    "total_sessions_plot<- ggplot(concurrent_sessions, aes(x= factor(hour), y= active_sessions))+\n",
    "geom_bar(stat= \"identity\", fill=\"skyblue\")+\n",
    "labs(\n",
    "title=\"Total Actve sessions by hour\",\n",
    "x=\"Hour of day\",\n",
    "y=\"Total Active sessions\")+\n",
    "theme_minimal()\n",
    "total_sessions_plot\n"
   ]
  },
  {
   "cell_type": "code",
   "execution_count": null,
   "id": "fb84b3d5-9933-4578-b765-76d21dc0edde",
   "metadata": {},
   "outputs": [],
   "source": [
    "# Day of the week exploratory plot\n",
    "\n",
    "concurrent_sessions<- concurrent_sessions|>\n",
    "mutate( day_of_week= factor (day_of_week , levels= c(\"Monday\", \"Tuesday\", \"Wednesday\", \"Thursday\", \"Friday\", \"Saturday\", \"Sunday\")))\n",
    "                                                      \n",
    "dayofweek_exploratory_plot<- ggplot(concurrent_sessions, aes(x= day_of_week, y= active_sessions))+\n",
    "geom_bar(stat= \"identity\", fill=\"green\")+\n",
    "labs(\n",
    "title=\"Total sessions by the day of week\",\n",
    "x=\"DAY OF WEEK\",\n",
    "y=\"Total Active sessions\")+\n",
    "theme_minimal()\n",
    "dayofweek_exploratory_plot\n"
   ]
  },
  {
   "cell_type": "code",
   "execution_count": null,
   "id": "8fa483ac-2f4b-473f-9319-15faca7c27f6",
   "metadata": {},
   "outputs": [],
   "source": [
    "#Show concurrent sessions by hour and day of week\n",
    "\n",
    "concurrent_sessions<- concurrent_sessions|>\n",
    "mutate(\n",
    "hour=hour(time),\n",
    "day_of_week= factor (day_of_week , levels= c(\"Monday\", \"Tuesday\", \"Wednesday\", \"Thursday\", \"Friday\", \"Saturday\", \"Sunday\")))\n",
    "\n",
    "Total_sessions_dayofweek <- ggplot(concurrent_sessions, aes(x=factor(hour), y= active_sessions))+\n",
    "geom_bar(stat= \"identity\", fill=\"pink\")+\n",
    "facet_wrap(~ day_of_week, ncol=1)+\n",
    "labs(\n",
    "title=\"Total sessions by the by hour by day\",\n",
    "x=\"hour of day\",\n",
    "y=\"Total Active sessions\")+\n",
    "theme_minimal()\n",
    "Total_sessions_dayofweek\n",
    "\n"
   ]
  },
  {
   "cell_type": "code",
   "execution_count": null,
   "id": "979dc7dc-730e-4119-95c1-809c04ba3f50",
   "metadata": {},
   "outputs": [],
   "source": [
    "#Scatter plot of start_time_of_day vs. play_duration_minutes\n",
    "sessions_durations <-sessions_durations |>\n",
    "mutate(\n",
    " day_of_week= factor (day_of_week , levels= c(\"Monday\", \"Tuesday\", \"Wednesday\", \"Thursday\", \"Friday\", \"Saturday\", \"Sunday\")))\n",
    "head(sessions_durations)\n",
    "\n",
    "duration_scatter <- ggplot(sessions_durations , aes(x=start_time_of_day , y= play_duration_minutes ))+\n",
    "geom_point( alpha= 0.4, color=\"red\")+\n",
    "facet_wrap(~ day_of_week, ncol=1)+\n",
    "labs(\n",
    "title=\"session duration in minutes by the time of day\",\n",
    "x=\"hour of day\",\n",
    "y=\"duration of session (minutes)\")+\n",
    "theme_minimal()\n",
    "duration_scatter"
   ]
  },
  {
   "cell_type": "code",
   "execution_count": null,
   "id": "ad90aa76-d42f-420a-9a90-221a72aa5339",
   "metadata": {},
   "outputs": [],
   "source": [
    "#Bar chart play duration minutes vs day of the week \n",
    "avg_duration <- sessions_durations|>\n",
    "group_by(day_of_week)|>\n",
    "summarize(avg_play_duration = mean ( play_duration_minutes, na.rm= TRUE))\n",
    "\n",
    "duration_bar <- ggplot(avg_duration , aes(x= day_of_week  , y= avg_play_duration))+\n",
    "geom_col( fill=\"purple\")+\n",
    "labs(\n",
    "title=\"session duration in minutes by day of the week\",\n",
    "x=\"day of the week\",\n",
    "y=\"duration of session (minutes)\")+\n",
    "theme_minimal()\n",
    "duration_bar\n",
    "\n"
   ]
  },
  {
   "cell_type": "markdown",
   "id": "73ba9558-3139-496a-b819-8fd93600ed9b",
   "metadata": {},
   "source": [
    "ANALYSIS OF HOURS REGARDLESS OF WEEK"
   ]
  },
  {
   "cell_type": "code",
   "execution_count": null,
   "id": "656a5ae6-19c6-43d5-86eb-7d4506a64af0",
   "metadata": {},
   "outputs": [],
   "source": []
  }
 ],
 "metadata": {
  "kernelspec": {
   "display_name": "R",
   "language": "R",
   "name": "ir"
  },
  "language_info": {
   "codemirror_mode": "r",
   "file_extension": ".r",
   "mimetype": "text/x-r-source",
   "name": "R",
   "pygments_lexer": "r",
   "version": "4.3.3"
  }
 },
 "nbformat": 4,
 "nbformat_minor": 5
}
