{
 "cells": [
  {
   "cell_type": "markdown",
   "id": "4eb09532-b96e-4bf3-8ae9-19e04b3bc940",
   "metadata": {},
   "source": [
    "loading the libraries"
   ]
  },
  {
   "cell_type": "code",
   "execution_count": null,
   "id": "daaf8e5e-ebba-496b-afe0-1a834ae37234",
   "metadata": {},
   "outputs": [],
   "source": [
    "#importing the libraries\n",
    "#  Visualization\n",
    "library(ggplot2)\n",
    "\n",
    "# Data manipulation\n",
    "library(tibble)\n",
    "library(dplyr)\n",
    "library(tidyr)\n",
    "library(purrr)\n",
    "library(readr)\n",
    "\n",
    "# Modelling and Preprocessing\n",
    "library(tidymodels)\n",
    "\n",
    "# Data splitting and resampling\n",
    "library(rsample) # train_test_split_equivalent\n",
    "library(tune) # GridSearchCV equivalent\n",
    "library(workflows) #make_pipeline equivalent\n",
    "library(recipes) #make_column_transformer and StandardScaler equivalent\n",
    "\n",
    "# Metrics\n",
    "library(yardstick) # for mean squared error\n",
    "\n",
    "#Time and Dates\n",
    "library(lubridate)\n",
    "\n",
    "\n",
    "#formatting graphs\n",
    "options(repr.plot.width=12, repr.plot.height=6)"
   ]
  },
  {
   "cell_type": "markdown",
   "id": "b108d32f-65be-40ce-b5d9-a128ac2fb8df",
   "metadata": {},
   "source": [
    "Step 2: Loading data in R"
   ]
  },
  {
   "cell_type": "code",
   "execution_count": null,
   "id": "5ebd92fe-4ccf-4dca-9c6c-a45866c8a5f3",
   "metadata": {},
   "outputs": [],
   "source": [
    "#loading data into R\n",
    "players<-read_csv(\"players.csv\")\n",
    "players\n",
    "sessions<- read_csv(\"sessions.csv\")\n",
    "sessions"
   ]
  },
  {
   "cell_type": "code",
   "execution_count": null,
   "id": "c1904c7d-2a05-468c-a624-cb13c3ca0d08",
   "metadata": {},
   "outputs": [],
   "source": [
    "# CONVERT START_TIME AND END_TIME TO DATETIME\n",
    "sessions<-sessions|>\n",
    "mutate( start_time= dmy_hm(start_time), end_time= dmy_hm(end_time))\n",
    "sessions"
   ]
  },
  {
   "cell_type": "code",
   "execution_count": null,
   "id": "d665ae5a-16b7-47cd-88a6-afb521cd2d3b",
   "metadata": {},
   "outputs": [],
   "source": [
    "#CONVERT THE TIMEZONE FROM GMT TO PST\n",
    "sessions <- sessions |>\n",
    "  mutate(\n",
    "    start_time = with_tz(force_tz(start_time, tzone = \"GMT\"), tzone = \"America/Los_Angeles\"),\n",
    "    end_time = with_tz(force_tz(end_time, tzone = \"GMT\"), tzone = \"America/Los_Angeles\")\n",
    "  )\n",
    "sessions \n"
   ]
  },
  {
   "cell_type": "markdown",
   "id": "43550edf-d1e1-4b19-9e03-1e8b50b623e8",
   "metadata": {},
   "source": [
    "WRANGLING DATA"
   ]
  },
  {
   "cell_type": "code",
   "execution_count": null,
   "id": "f38094f9-378f-4376-b4d2-b1806a4d5d3c",
   "metadata": {},
   "outputs": [],
   "source": [
    "#Creating an hourly time range\n",
    "hours<- seq(from= floor_date(min(sessions$start_time, na.rm = TRUE), unit= \"hour\"), \n",
    "            to = ceiling_date(max(sessions$end_time, na.rm = TRUE), unit= \"hour\"), \n",
    "            by=\"1 hour\")\n",
    "head(hours)"
   ]
  },
  {
   "cell_type": "code",
   "execution_count": null,
   "id": "f293052b-8df1-46fd-983f-ac93ad6c4349",
   "metadata": {},
   "outputs": [],
   "source": [
    "#Count how many sessions are active during each hour\n",
    "concurrent_sessions<-map_dfr(hours, function(h){\n",
    "active_players <- sum(sessions$start_time <= h & sessions$end_time >= h)\n",
    "tibble( time=h, active_sessions = active_players)})\n",
    "head(concurrent_sessions)"
   ]
  },
  {
   "cell_type": "code",
   "execution_count": null,
   "id": "a55af74b-d616-43bf-8906-625824984c51",
   "metadata": {},
   "outputs": [],
   "source": []
  }
 ],
 "metadata": {
  "kernelspec": {
   "display_name": "R",
   "language": "R",
   "name": "ir"
  },
  "language_info": {
   "codemirror_mode": "r",
   "file_extension": ".r",
   "mimetype": "text/x-r-source",
   "name": "R",
   "pygments_lexer": "r",
   "version": "4.3.3"
  }
 },
 "nbformat": 4,
 "nbformat_minor": 5
}
