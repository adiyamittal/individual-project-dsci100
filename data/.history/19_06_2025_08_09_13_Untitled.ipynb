{
 "cells": [
  {
   "cell_type": "markdown",
   "id": "4eb09532-b96e-4bf3-8ae9-19e04b3bc940",
   "metadata": {},
   "source": [
    "loading the libraries"
   ]
  },
  {
   "cell_type": "code",
   "execution_count": null,
   "id": "daaf8e5e-ebba-496b-afe0-1a834ae37234",
   "metadata": {},
   "outputs": [],
   "source": [
    "#importing the libraries\n",
    "#  Visualization\n",
    "library(ggplot2)\n",
    "\n",
    "# Data manipulation\n",
    "library(tibble)\n",
    "library(dplyr)\n",
    "library(tidyr)\n",
    "library(purrr)\n",
    "library(readr)\n",
    "\n",
    "# Modelling and Preprocessing\n",
    "library(tidymodels)\n",
    "\n",
    "# Data splitting and resampling\n",
    "library(rsample) # train_test_split_equivalent\n",
    "library(tune) # GridSearchCV equivalent\n",
    "library(workflows) #make_pipeline equivalent\n",
    "library(recipes) #make_column_transformer and StandardScaler equivalent\n",
    "\n",
    "# Metrics\n",
    "library(yardstick) # for mean squared error\n",
    "\n",
    "#Time and Dates\n",
    "library(lubridate)\n",
    "\n",
    "\n",
    "#formatting graphs\n",
    "options(repr.plot.width=12, repr.plot.height=6)"
   ]
  },
  {
   "cell_type": "markdown",
   "id": "b108d32f-65be-40ce-b5d9-a128ac2fb8df",
   "metadata": {},
   "source": [
    "Step 2: Loading data in R"
   ]
  },
  {
   "cell_type": "code",
   "execution_count": null,
   "id": "5ebd92fe-4ccf-4dca-9c6c-a45866c8a5f3",
   "metadata": {},
   "outputs": [],
   "source": [
    "#loading data into R\n",
    "players<-read_csv(\"players.csv\")\n",
    "players\n",
    "sessions<- read_csv(\"sessions.csv\")\n",
    "sessions"
   ]
  },
  {
   "cell_type": "code",
   "execution_count": null,
   "id": "c1904c7d-2a05-468c-a624-cb13c3ca0d08",
   "metadata": {},
   "outputs": [],
   "source": [
    "# CONVERT START_TIME AND END_TIME TO DATETIME\n",
    "sessions<-sessions|>\n",
    "mutate( start_time= dmy_hm(start_time), end_time= dmy_hm(end_time))\n",
    "sessions"
   ]
  },
  {
   "cell_type": "code",
   "execution_count": null,
   "id": "d665ae5a-16b7-47cd-88a6-afb521cd2d3b",
   "metadata": {},
   "outputs": [],
   "source": [
    "#CONVERT THE TIMEZONE FROM GMT TO PST\n",
    "sessions <- sessions |>\n",
    "  mutate(\n",
    "    start_time = with_tz(force_tz(start_time, tzone = \"GMT\"), tzone = \"America/Los_Angeles\"),\n",
    "    end_time = with_tz(force_tz(end_time, tzone = \"GMT\"), tzone = \"America/Los_Angeles\")\n",
    "  )\n",
    "sessions \n"
   ]
  },
  {
   "cell_type": "markdown",
   "id": "43550edf-d1e1-4b19-9e03-1e8b50b623e8",
   "metadata": {},
   "source": [
    "WRANGLING DATA"
   ]
  },
  {
   "cell_type": "code",
   "execution_count": null,
   "id": "f38094f9-378f-4376-b4d2-b1806a4d5d3c",
   "metadata": {},
   "outputs": [],
   "source": [
    "#Creating an hourly time range\n",
    "hours<- seq(from= floor_date(min(sessions$start_time, na.rm = TRUE), unit= \"hour\"), \n",
    "            to = ceiling_date(max(sessions$end_time, na.rm = TRUE), unit= \"hour\"), \n",
    "            by=\"1 hour\")\n",
    "head(hours)"
   ]
  },
  {
   "cell_type": "code",
   "execution_count": null,
   "id": "f293052b-8df1-46fd-983f-ac93ad6c4349",
   "metadata": {},
   "outputs": [],
   "source": [
    "#Count how many sessions are active during each hour\n",
    "concurrent_sessions<-map_dfr(hours, function(h){\n",
    "active_players <- sum(sessions$start_time <= h & sessions$end_time >= h)\n",
    "tibble( time=h, active_sessions = active_players)})\n",
    "head(concurrent_sessions)"
   ]
  },
  {
   "cell_type": "code",
   "execution_count": null,
   "id": "a55af74b-d616-43bf-8906-625824984c51",
   "metadata": {},
   "outputs": [],
   "source": [
    "#Extracting day of week\n",
    "concurrent_sessions <- concurrent_sessions|>\n",
    "mutate(day_of_week =wday(time, label = TRUE, abbr = FALSE))\n",
    "concurrent_sessions"
   ]
  },
  {
   "cell_type": "code",
   "execution_count": null,
   "id": "d6fd07df-a383-42ec-ac86-18a806276fbb",
   "metadata": {},
   "outputs": [],
   "source": [
    "# Create weekday sessions\n",
    "weekday_sessions <-concurrent_sessions|>\n",
    "filter(day_of_week %in% c (\"Monday\", \"Tuesday\", \"Wednesday\", \"Thursday\", \"Friday\"))|>\n",
    "mutate( day_of_end =\"weekday\")\n",
    "head(weekday_sessions)"
   ]
  },
  {
   "cell_type": "code",
   "execution_count": null,
   "id": "826529bd-7d26-4ccd-8f2d-f4527ab090b4",
   "metadata": {},
   "outputs": [],
   "source": [
    "# Create weekend sessions\n",
    "weekend_sessions <- concurrent_sessions |>\n",
    "  filter(day_of_week %in% c(\"Saturday\", \"Sunday\")) |>\n",
    "  mutate(day_or_end = \"weekend\")\n",
    "head( weekend_sessions)"
   ]
  },
  {
   "cell_type": "code",
   "execution_count": null,
   "id": "d92a2814-f1d1-4aa9-b2ad-f18f355010b4",
   "metadata": {},
   "outputs": [],
   "source": [
    "# Calculate sessions duration \n",
    "sessions_durations <- sessions |>\n",
    "  mutate(\n",
    "    play_duration_minutes = as.numeric(difftime(end_time, start_time, units = \"mins\")),\n",
    "    day_of_week = wday(start_time, label = TRUE, abbr = FALSE),\n",
    "    start_hour = hour(start_time),\n",
    "    start_time_of_day = hour(start_time) + minute(start_time) / 60\n",
    "  ) |>\n",
    "  filter(play_duration_minutes > 0)\n",
    "head(sessions_durations)"
   ]
  },
  {
   "cell_type": "code",
   "execution_count": null,
   "id": "12ad4e1c-9de3-41a8-a1bd-bba8a03a0d18",
   "metadata": {},
   "outputs": [],
   "source": [
    "#Show concurrent sessions by hour and the plot\n",
    "\n",
    "concurrent_sessions<- concurrent_sessions|>\n",
    "mutate(hour= hour(time))\n",
    "\n",
    "total_sessions_plot<- ggplot(concurrent_sessions, aes(x= factor(hour), y= active_sessions))+\n",
    "geom_bar(stat= \"identity\", fill=\"skyblue\")+\n",
    "labs(\n",
    "title=\"Total Actve sessions by hour\",\n",
    "x=\"Hour of day\",\n",
    "y=\"Total Active sessions\")+\n",
    "theme_minimal()\n",
    "total_sessions_plot"
   ]
  },
  {
   "cell_type": "code",
   "execution_count": null,
   "id": "795e565e-4d06-4fab-a6bd-9bb8c565ace2",
   "metadata": {},
   "outputs": [],
   "source": [
    "# Day of the week exploratory plot\n",
    "\n",
    "concurrent_sessions<- concurrent_sessions|>\n",
    "mutate( day_of_week= factor (day_of_week , levels= c(\"Monday\", \"Tuesday\", \"Wednesday\", \"Thursday\", \"Friday\", \"Saturday\", \"Sunday\")))\n",
    "                                                      \n",
    "dayofweek_exploratory_plot<- ggplot(concurrent_sessions, aes(x= day_of_week, y= active_sessions))+\n",
    "geom_bar(stat= \"identity\", fill=\"green\")+\n",
    "labs(\n",
    "title=\"Total sessions by the day of week\",\n",
    "x=\"DAY OF WEEK\",\n",
    "y=\"Total Active sessions\")+\n",
    "theme_minimal()\n",
    "dayofweek_exploratory_plot\n"
   ]
  },
  {
   "cell_type": "code",
   "execution_count": null,
   "id": "6acb1e02-9f6c-440e-8b82-040ce64bd762",
   "metadata": {},
   "outputs": [],
   "source": [
    "#Show concurrent sessions by hour and day of week\n",
    "\n",
    "concurrent_sessions<- concurrent_sessions|>\n",
    "mutate(\n",
    "hour=hour(time),\n",
    "day_of_week= factor (day_of_week , levels= c(\"Monday\", \"Tuesday\", \"Wednesday\", \"Thursday\", \"Friday\", \"Saturday\", \"Sunday\")))\n",
    "\n",
    "Total_sessions_dayofweek <- ggplot(concurrent_sessions, aes(x=factor(hour), y= active_sessions))+\n",
    "geom_bar(stat= \"identity\", fill=\"pink\")+\n",
    "facet_wrap(~ day_of_week, ncol=1)+\n",
    "labs(\n",
    "title=\"Total sessions by the by hour by day\",\n",
    "x=\"hour of day\",\n",
    "y=\"Total Active sessions\")+\n",
    "theme_minimal()\n",
    "Total_sessions_dayofweek\n",
    "\n"
   ]
  },
  {
   "cell_type": "code",
   "execution_count": null,
   "id": "48dfabcb-1cda-4aec-b118-4479d7e7457e",
   "metadata": {},
   "outputs": [],
   "source": [
    "#Scatter plot of start_time_of_day vs. play_duration_minutes\n",
    "sessions_durations <-sessions_durations |>\n",
    "mutate(\n",
    " day_of_week= factor (day_of_week , levels= c(\"Monday\", \"Tuesday\", \"Wednesday\", \"Thursday\", \"Friday\", \"Saturday\", \"Sunday\")))\n",
    "head(sessions_durations)\n",
    "\n",
    "duration_scatter <- ggplot(sessions_durations , aes(x=start_time_of_day , y= play_duration_minutes ))+\n",
    "geom_point( alpha= 0.4, color=\"red\")+\n",
    "facet_wrap(~ day_of_week, ncol=1)+\n",
    "labs(\n",
    "title=\"session duration in minutes by the time of day\",\n",
    "x=\"hour of day\",\n",
    "y=\"duration of session (minutes)\")+\n",
    "theme_minimal()\n",
    "duration_scatter"
   ]
  },
  {
   "cell_type": "code",
   "execution_count": null,
   "id": "f4fc4726-0dcb-4d8a-bc36-474d3fc0bb2d",
   "metadata": {},
   "outputs": [],
   "source": [
    "#Bar chart play duration minutes vs day of the week \n",
    "avg_duration <- sessions_durations|>\n",
    "group_by(day_of_week)|>\n",
    "summarize(avg_play_duration = mean ( play_duration_minutes, na.rm= TRUE))\n",
    "\n",
    "duration_bar <- ggplot(avg_duration , aes(x= day_of_week  , y= avg_play_duration))+\n",
    "geom_col( fill=\"purple\")+\n",
    "labs(\n",
    "title=\"session duration in minutes by day of the week\",\n",
    "x=\"day of the week\",\n",
    "y=\"duration of session (minutes)\")+\n",
    "theme_minimal()\n",
    "duration_bar"
   ]
  },
  {
   "cell_type": "markdown",
   "id": "20e15ed1-20d1-4691-957d-f62e5503c07e",
   "metadata": {},
   "source": [
    "ANALYSIS OF HOURS REGARDLESS OF WEEK"
   ]
  },
  {
   "cell_type": "code",
   "execution_count": null,
   "id": "dc2630ba-087d-4231-9ae0-410f51a005e1",
   "metadata": {},
   "outputs": [],
   "source": [
    "#Training and testing split \n",
    "set.seed(2000)\n",
    "\n",
    "split_obj<- initial_split( concurrent_sessions, prop= 0.75)\n",
    "\n",
    "sessions_train <- training(split_obj)\n",
    "sessions_test <- testing(split_obj)\n",
    "\n",
    "x_train <- sessions_train|>\n",
    "select(hour)\n",
    "head(x_train)\n",
    "\n",
    "y_train<- sessions_train|>\n",
    "pull(active_sessions)\n",
    "head(y_train)\n",
    "\n",
    "x_test <- sessions_test|>\n",
    "select(hour)\n",
    "head(x_test)\n",
    "\n",
    "y_test<- sessions_test|>\n",
    "pull(active_sessions)\n",
    "head(y_test)"
   ]
  },
  {
   "cell_type": "code",
   "execution_count": null,
   "id": "a7e465f7-77b2-49e2-9786-f5bf7afff699",
   "metadata": {},
   "outputs": [],
   "source": [
    "# KNN- regression\n",
    "knn_recipe <- recipe(active_sessions ~ hour, data = sessions_train) |>\n",
    "  step_scale(all_predictors())|>\n",
    "  step_center(all_predictors())\n",
    "\n",
    "# Model specification\n",
    "knn_spec <- nearest_neighbor( mode = \"regression\", neighbors = tune() )|>\n",
    "  set_engine(\"kknn\")\n",
    "\n",
    "# Workflow\n",
    "knn_workflow <- workflow() |>\n",
    "  add_recipe(knn_recipe) |>\n",
    "  add_model(knn_spec)\n",
    "\n",
    "# Tuning grid: neighbors 1 to 49\n",
    "knn_grid <- tibble(neighbors = 1:49)\n",
    "\n",
    "# Resampling setup: 5-fold CV\n",
    "set.seed(2000)\n",
    "folds <- vfold_cv(sessions_train, v = 5)\n",
    "\n",
    "# Tune the model\n",
    "knn_tuned <- tune_grid( knn_workflow,\n",
    "  resamples = folds,\n",
    "  grid = knn_grid,\n",
    "  metrics = metric_set(rmse) )\n",
    "\n",
    "# Get best model\n",
    "best_knn <- knn_tuned |>\n",
    " select_best(\"rmse\")\n",
    "\n",
    "# Finalize workflow with best number of neighbors\n",
    "final_knn_workflow <- knn_workflow |>\n",
    "  finalize_workflow(best_knn)\n",
    "\n",
    "# Fit on full training data\n",
    "final_knn_fit <- final_knn_workflow |>\n",
    "  fit(data = sessions_train)\n",
    "\n",
    "# Predict on test data\n",
    "predictions <- predict(final_knn_fit, sessions_test) |>\n",
    "  bind_cols(sessions_test)\n",
    "\n",
    "# Calculate RMSE\n",
    "rmse(predictions, truth = active_sessions, estimate = .pred)"
   ]
  },
  {
   "cell_type": "code",
   "execution_count": null,
   "id": "b5cc46dd-e948-465f-83b3-e2169be1a27a",
   "metadata": {},
   "outputs": [],
   "source": [
    "# best rmse\n",
    "knn_tuned<-tune_grid(knn_workflow, resamples=folds, grid=knn_grid, metrics=metric_set(rmse))\n",
    "y_train<-pull(sessions_train, active_sessions)\n",
    "y_train"
   ]
  },
  {
   "cell_type": "code",
   "execution_count": null,
   "id": "550d4189-2bde-4c97-a39b-a975930d01fc",
   "metadata": {},
   "outputs": [],
   "source": [
    "sessions_test_preds<- predict(final_knn_fit, new_data=sessions_test)|>\n",
    "bind_cols(sessions_test)\n",
    "\n",
    "#view and predict RMSPE results\n",
    "rmse_result<-rmse(data=sessions_test_preds, truth=active_sessions, estimate=.pred)\n",
    "rmse_result$.estimate"
   ]
  },
  {
   "cell_type": "code",
   "execution_count": null,
   "id": "6ec5881b-815f-4c5e-89e1-dad2697e349c",
   "metadata": {},
   "outputs": [],
   "source": [
    "# predict on training data\n",
    "sessions_train_preds<- predict(final_knn_fit, new_data=sessions_train)|>\n",
    "bind_cols(sessions_train)"
   ]
  },
  {
   "cell_type": "markdown",
   "id": "425b251e-2ab4-4e45-aafd-9fcc254a7c6f",
   "metadata": {},
   "source": [
    "ANALYSIS SEPERATING WEEKENDS AND WEEKDAYS"
   ]
  },
  {
   "cell_type": "code",
   "execution_count": null,
   "id": "467564e9-aaea-4c97-8850-38ae7a07a28f",
   "metadata": {},
   "outputs": [],
   "source": [
    "# split weekday sessions \n",
    "set.seed(2000)  # Reproducibility\n",
    "\n",
    "# 75/25 split\n",
    "\n",
    "weekday_sessions <- weekday_sessions |>\n",
    "  mutate(hour = lubridate::hour(time))\n",
    "\n",
    "weekday_split <- initial_split(weekday_sessions, prop = 0.75)\n",
    "weekday_train <- training(weekday_split)\n",
    "weekday_test <- testing(weekday_split)\n",
    "weekday_train\n",
    "weekday_test\n",
    "\n",
    "weekday_recipe <- recipe(active_sessions ~ hour, data = weekday_train) |>\n",
    "step_scale(all_predictors())|>\n",
    "step_center(all_predictors())\n",
    "\n",
    "weekday_knn_spec <- nearest_neighbor( mode = \"regression\", neighbors = tune()) |>\n",
    "set_engine(\"kknn\")\n",
    "\n",
    "weekday_workflow <- workflow() |>\n",
    "  add_recipe(weekday_recipe) |>\n",
    "  add_model(knn_spec)\n",
    "\n",
    "knn_grid <- tibble(neighbors = 1:49)\n",
    "\n",
    "weekday_resamples <- vfold_cv(weekday_train, v = 5)\n",
    "\n",
    "weekday_tuned <- tune_grid(\n",
    "  weekday_workflow,\n",
    "  resamples = weekday_resamples,\n",
    "  grid = knn_grid,\n",
    "  metrics = metric_set(rmse))\n",
    "\n",
    "best_k <- select_best(weekday_tuned, \"rmse\")\n",
    "\n",
    "weekday_final_wf <- finalize_workflow(weekday_workflow, best_k)\n",
    "\n",
    "weekday_fit <- fit(weekday_final_wf, data = weekday_train)\n",
    "\n",
    "weekday_test_preds <- predict(weekday_fit, new_data = weekday_test) |>\n",
    "  bind_cols(weekday_test)\n",
    "\n",
    "# Calculate RMSE\n",
    "rmse(weekday_test_preds, truth = active_sessions, estimate = .pred)\n",
    "\n",
    "weekday_train_preds <- predict(weekday_fit, new_data = weekday_train) |>\n",
    "  bind_cols(weekday_train)"
   ]
  },
  {
   "cell_type": "code",
   "execution_count": null,
   "id": "4298031a-6369-4d8a-bad8-94101cff76be",
   "metadata": {},
   "outputs": [],
   "source": [
    "# for the weekends\n",
    "\n",
    "weekend_sessions <- weekend_sessions |>\n",
    "  mutate(hour = lubridate::hour(time))\n",
    "\n",
    "weekend_split <- initial_split(weekend_sessions, prop = 0.75)\n",
    "weekend_train <- training(weekend_split)\n",
    "weekend_test <- testing(weekend_split)\n",
    "weekend_train\n",
    "weekend_test\n",
    "\n",
    "weekend_recipe <- recipe(active_sessions ~ hour, data = weekend_train) |>\n",
    "step_scale(all_predictors())|>\n",
    "step_center(all_predictors())\n",
    "\n",
    "weekend_knn_spec <- nearest_neighbor( mode = \"regression\", neighbors = tune()) |>\n",
    "set_engine(\"kknn\")\n",
    "\n",
    "weekend_workflow <- workflow() |>\n",
    "  add_recipe(weekend_recipe) |>\n",
    "  add_model(knn_spec)\n",
    "\n",
    "knn_grid <- tibble(neighbors = 1:49)\n",
    "\n",
    "weekend_resamples <- vfold_cv(weekend_train, v = 5)\n",
    "\n",
    "weekend_tuned <- tune_grid(\n",
    "  weekend_workflow,\n",
    "  resamples = weekend_resamples,\n",
    "  grid = knn_grid,\n",
    "  metrics = metric_set(rmse))\n",
    "\n",
    "best_k <- select_best(weekend_tuned, \"rmse\")\n",
    "\n",
    "weekend_final_wf <- finalize_workflow(weekend_workflow, best_k)\n",
    "\n",
    "weekend_fit <- fit(weekend_final_wf, data = weekend_train)\n",
    "\n",
    "weekend_test_preds <- predict(weekend_fit, new_data = weekend_test) |>\n",
    "  bind_cols(weekend_test)\n",
    "\n",
    "# Calculate RMSE\n",
    "rmse(weekend_test_preds, truth = active_sessions, estimate = .pred)\n",
    "\n",
    "weekend_train_preds <- predict(weekend_fit, new_data = weekend_train) |>\n",
    "  bind_cols(weekend_train)"
   ]
  },
  {
   "cell_type": "code",
   "execution_count": null,
   "id": "5568d526-5f20-4b09-8d61-ed0562d07c4b",
   "metadata": {},
   "outputs": [],
   "source": [
    "# plot : maximumu concurrent seesions by the day of week\n",
    "\n"
   ]
  }
 ],
 "metadata": {
  "kernelspec": {
   "display_name": "R",
   "language": "R",
   "name": "ir"
  },
  "language_info": {
   "codemirror_mode": "r",
   "file_extension": ".r",
   "mimetype": "text/x-r-source",
   "name": "R",
   "pygments_lexer": "r",
   "version": "4.3.3"
  }
 },
 "nbformat": 4,
 "nbformat_minor": 5
}
