{
 "cells": [
  {
   "cell_type": "markdown",
   "id": "4eb09532-b96e-4bf3-8ae9-19e04b3bc940",
   "metadata": {},
   "source": [
    "Problem: Predicting Usage of a Video Game Research Server\n",
    "\n",
    "Adiya Mittal\n",
    "\n",
    "BACKGROUND INFORMATION\n",
    "\n",
    "In recent years, the use of data science in gaming has become increasingly important, especially in large-scale multiplayer environments. Online games like Minecraft generate a vast amount of behavioral data as users interact with the environment, each other, and the game system itself. By analyzing this data, researchers and developers can optimize gameplay experiences, manage resources more effectively, and better understand user behavior patterns.\n",
    "\n",
    "At the University of British Columbia (UBC), a research group led by Professor Frank Wood is conducting such a study using a dedicated Minecraft server. As players explore and interact in this shared world, their actions are continuously logged. However, managing the infrastructure to support this project poses significant logistical challenges. In particular, the research team must ensure that the server infrastructure (such as computing power and software licenses) can handle peak usage times, when many players may be active at once. Understanding when these high-demand periods occur is crucial for effective planning and resource allocation.\n",
    "\n",
    "This brings us to the central aim of our project: predicting high-demand time windows, where the number of active players is likely to be large. By forecasting demand patterns, the team can make evidence-based decisions to scale their operations appropriately, target player recruitment, and prevent service disruptions."
   ]
  },
  {
   "cell_type": "markdown",
   "id": "9f6d07aa-a208-497b-86aa-51b61412e6dd",
   "metadata": {},
   "source": [
    "The question I will address is this:\n",
    "\n",
    "Can the hour of the day and the day of the week predict the number of active players in a given time window on the Minecraft server?\n",
    "\n",
    "To answer this question I will be using the sessions.csv data that is provided to us. The sessions.csv data contains these following columns:\n",
    "1. experience- The age of the player\n",
    "2. subscribe- tells whether the person has subscribed to the game or not\n",
    "3. hashedEmail- the email of the player\n",
    "4. played_hours- how many hours has the players played the game\n",
    "5. name- name of the player\n",
    "6. gender- gender of the player\n",
    "7. Age- age of the player\n",
    "\n",
    "METHODS:\n",
    "Prepocessing and exploratory data analysis\n",
    "1. Import libraries and sessions.csv dataset from the internet.\n",
    "2. Cleaned and tidied data to ake it usable, by converting the column start_time and end_time into date and time and I converted the time provied to us into Pacific time zone.\n",
    "3. Added columns to the dataset like, start_hour, day_of_week, active_session_duration\n",
    "4. Made various plots depending on the needs of questions, like finding the connection between day of the week and the duration of the active session.\n",
    "5. Split the data into training and testing set and found the best K value.\n",
    "\n",
    "FINDING THE BEST K VALUE:\n",
    "1. Use recipe function to center and scale data\n",
    "2. Perform the cross validation to train the classifier multiple times\n",
    "3. Create the nearest neighbor model with tune()\n",
    "4. Add recipe and model to workflow. Use the tune_grid() function to add the vfold_cv() and the range of K values.\n",
    "5. Then testing out the best_k value on the validation set.\n",
    "\n",
    "TESTING OUR CLASSIFIER\n",
    "\n",
    "1. Made a new model specification for the best $k$ value chosen, combined with the recipe made earlier in a workflow, and fit the classifier to our training set.\n",
    "2. Used predict on the testing set to evaluate the classifier’s predicition RMSE on data it hadn’t seen before.\n",
    "3. Tested the RMSE of our classifier."
   ]
  },
  {
   "cell_type": "markdown",
   "id": "5797b107-f853-4c0f-b10b-73d617a190bc",
   "metadata": {},
   "source": [
    "IMPORTING LIBRARIES AND PACKAGES"
   ]
  },
  {
   "cell_type": "code",
   "execution_count": null,
   "id": "daaf8e5e-ebba-496b-afe0-1a834ae37234",
   "metadata": {},
   "outputs": [],
   "source": [
    "#importing the libraries\n",
    "#  Visualization\n",
    "library(ggplot2)\n",
    "\n",
    "# Data manipulation\n",
    "library(tibble)\n",
    "library(dplyr)\n",
    "library(tidyr)\n",
    "library(purrr)\n",
    "library(readr)\n",
    "\n",
    "# Modelling and Preprocessing\n",
    "library(tidymodels)\n",
    "\n",
    "# Data splitting and resampling\n",
    "library(rsample) # train_test_split_equivalent\n",
    "library(tune) # GridSearchCV equivalent\n",
    "library(workflows) #make_pipeline equivalent\n",
    "library(recipes) #make_column_transformer and StandardScaler equivalent\n",
    "\n",
    "# Metrics\n",
    "library(yardstick) # for mean squared error\n",
    "\n",
    "#Time and Dates\n",
    "library(lubridate)\n",
    "\n",
    "\n",
    "#formatting graphs\n",
    "options(repr.plot.width=12, repr.plot.height=6)"
   ]
  },
  {
   "cell_type": "markdown",
   "id": "b108d32f-65be-40ce-b5d9-a128ac2fb8df",
   "metadata": {},
   "source": [
    "Step 2: Loading data in R"
   ]
  },
  {
   "cell_type": "markdown",
   "id": "38f1b21b-6df3-42fb-adae-005c7632e1e4",
   "metadata": {},
   "source": [
    "IMPORTING DATSET \n",
    "\n",
    "I used read_csv to import the players.csv and sessions.csv function."
   ]
  },
  {
   "cell_type": "code",
   "execution_count": null,
   "id": "5ebd92fe-4ccf-4dca-9c6c-a45866c8a5f3",
   "metadata": {},
   "outputs": [],
   "source": [
    "#loading data into R\n",
    "players<-read_csv(\"players.csv\")\n",
    "players\n",
    "sessions<- read_csv(\"sessions.csv\")\n",
    "sessions"
   ]
  },
  {
   "cell_type": "markdown",
   "id": "5ece5f45-803f-49ad-8722-5248087e30ee",
   "metadata": {},
   "source": [
    "CLEANING AND TIDYING DATA\n",
    "\n",
    "First, I wanted t convert the start_time and end_time into a differnt forma, where the time is expressed in the 24 hour clock. This helps me to differentiate the time and to reduct the chances of R getting the confuse of whether I was talking about the morning time period or the evening time period.\n",
    "\n",
    "Second, I wanted to convert the time into Pacific time, so that is it interpretable."
   ]
  },
  {
   "cell_type": "code",
   "execution_count": null,
   "id": "c1904c7d-2a05-468c-a624-cb13c3ca0d08",
   "metadata": {},
   "outputs": [],
   "source": [
    "# CONVERT START_TIME AND END_TIME TO DATETIME\n",
    "sessions<-sessions|>\n",
    "mutate( start_time= dmy_hm(start_time), end_time= dmy_hm(end_time))\n",
    "sessions"
   ]
  },
  {
   "cell_type": "code",
   "execution_count": null,
   "id": "d665ae5a-16b7-47cd-88a6-afb521cd2d3b",
   "metadata": {},
   "outputs": [],
   "source": [
    "#CONVERT THE TIMEZONE FROM GMT TO PST\n",
    "sessions <- sessions |>\n",
    "  mutate(\n",
    "    start_time = with_tz(force_tz(start_time, tzone = \"GMT\"), tzone = \"America/Los_Angeles\"),\n",
    "    end_time = with_tz(force_tz(end_time, tzone = \"GMT\"), tzone = \"America/Los_Angeles\")\n",
    "  )\n",
    "sessions \n"
   ]
  },
  {
   "cell_type": "markdown",
   "id": "43550edf-d1e1-4b19-9e03-1e8b50b623e8",
   "metadata": {},
   "source": [
    "WRANGLING DATA\n",
    "\n",
    "To understand what the data set sessions brought us in form information, I extracted multiple things from the data:\n",
    "1. created an hourly time range\n",
    "2. then counted how many active sessions were present in each hour of the day\n",
    "3. extracting which day of the week were the session happening\n",
    "4. and lastly seperately extracting the amonut of sessions that happened on each day of the weekday amd weekend."
   ]
  },
  {
   "cell_type": "code",
   "execution_count": null,
   "id": "f38094f9-378f-4376-b4d2-b1806a4d5d3c",
   "metadata": {},
   "outputs": [],
   "source": [
    "#Creating an hourly time range\n",
    "hours<- seq(from= floor_date(min(sessions$start_time, na.rm = TRUE), unit= \"hour\"), \n",
    "            to = ceiling_date(max(sessions$end_time, na.rm = TRUE), unit= \"hour\"), \n",
    "            by=\"1 hour\")\n",
    "head(hours)"
   ]
  },
  {
   "cell_type": "code",
   "execution_count": null,
   "id": "f293052b-8df1-46fd-983f-ac93ad6c4349",
   "metadata": {},
   "outputs": [],
   "source": [
    "#Count how many sessions are active during each hour\n",
    "concurrent_sessions<-map_dfr(hours, function(h){\n",
    "active_players <- sum(sessions$start_time <= h & sessions$end_time >= h)\n",
    "tibble( time=h, active_sessions = active_players)})\n",
    "head(concurrent_sessions)"
   ]
  },
  {
   "cell_type": "code",
   "execution_count": null,
   "id": "a55af74b-d616-43bf-8906-625824984c51",
   "metadata": {},
   "outputs": [],
   "source": [
    "#Extracting day of week\n",
    "concurrent_sessions <- concurrent_sessions|>\n",
    "mutate(day_of_week =wday(time, label = TRUE, abbr = FALSE))\n",
    "concurrent_sessions"
   ]
  },
  {
   "cell_type": "code",
   "execution_count": null,
   "id": "d6fd07df-a383-42ec-ac86-18a806276fbb",
   "metadata": {},
   "outputs": [],
   "source": [
    "# Create weekday sessions\n",
    "weekday_sessions <-concurrent_sessions|>\n",
    "filter(day_of_week %in% c (\"Monday\", \"Tuesday\", \"Wednesday\", \"Thursday\", \"Friday\"))|>\n",
    "mutate( day_of_end =\"weekday\")\n",
    "head(weekday_sessions)"
   ]
  },
  {
   "cell_type": "code",
   "execution_count": null,
   "id": "826529bd-7d26-4ccd-8f2d-f4527ab090b4",
   "metadata": {},
   "outputs": [],
   "source": [
    "# Create weekend sessions\n",
    "weekend_sessions <- concurrent_sessions |>\n",
    "  filter(day_of_week %in% c(\"Saturday\", \"Sunday\")) |>\n",
    "  mutate(day_or_end = \"weekend\")\n",
    "head( weekend_sessions)"
   ]
  },
  {
   "cell_type": "code",
   "execution_count": null,
   "id": "d92a2814-f1d1-4aa9-b2ad-f18f355010b4",
   "metadata": {},
   "outputs": [],
   "source": [
    "# Calculate sessions duration \n",
    "sessions_durations <- sessions |>\n",
    "  mutate(\n",
    "    play_duration_minutes = as.numeric(difftime(end_time, start_time, units = \"mins\")),\n",
    "    day_of_week = wday(start_time, label = TRUE, abbr = FALSE),\n",
    "    start_hour = hour(start_time),\n",
    "    start_time_of_day = hour(start_time) + minute(start_time) / 60\n",
    "  ) |>\n",
    "  filter(play_duration_minutes > 0)\n",
    "head(sessions_durations)"
   ]
  },
  {
   "cell_type": "markdown",
   "id": "1104b3e4-ea0f-4c13-a047-ea670599235f",
   "metadata": {},
   "source": [
    "LOOKING AT DIFFERENT VARIABLE USING DIFFERNT PLOTS:\n",
    "\n",
    "1. Concurrent sessions by hour- This plot shows the relationship between the hour of the day (24 hour clock) and the number of active sessions during each hour. I presented ths in the form of a bar plot because I wanted to compare different number of sessions. We see that later hours of the day have more active sessions.\n",
    "\n",
    "2. Day of the week by active sessions- This plot shows the relationship between the day of the week and the number of active sessions during each day. I presented ths in the form of a bar plot because I wanted to compare different number of sessions on each day. The conclusion can be made that Saturday and Sunday have most active sessions and are more busier that weekdays.\n",
    "\n",
    "3. Concurrent sessions by day and hour- This plot shows the relationship between the day of the week,hour of the day and the number of active sessions during each day. I presented ths in the form of a bar plot because I wanted to compare different number of sessions on each day and each hour.\n",
    "\n",
    "4. Start time vs duration- This plot shows the relationship between the start time of the active session and the duration of minutes it continues. I presented ths in the form of a scatter plot because of the comparison between two independent quantities.\n",
    "\n",
    "5. Duration vs day of the week-  This plot shows the relationship between the day of the week and the duration of each session. I presented this in the form of a bar plot because I wanted to compare the durations on each day. The conclusion can be made that Saturday and Friday host longer duration session."
   ]
  },
  {
   "cell_type": "code",
   "execution_count": null,
   "id": "12ad4e1c-9de3-41a8-a1bd-bba8a03a0d18",
   "metadata": {},
   "outputs": [],
   "source": [
    "#Show concurrent sessions by hour and the plot\n",
    "\n",
    "concurrent_sessions<- concurrent_sessions|>\n",
    "mutate(hour= hour(time))\n",
    "\n",
    "total_sessions_plot<- ggplot(concurrent_sessions, aes(x= factor(hour), y= active_sessions))+\n",
    "geom_bar(stat= \"identity\", fill=\"skyblue\")+\n",
    "labs(\n",
    "title=\"Total Actve sessions by hour\",\n",
    "x=\"Hour of day\",\n",
    "y=\"Total Active sessions\")+\n",
    "theme_minimal()\n",
    "total_sessions_plot"
   ]
  },
  {
   "cell_type": "code",
   "execution_count": null,
   "id": "795e565e-4d06-4fab-a6bd-9bb8c565ace2",
   "metadata": {},
   "outputs": [],
   "source": [
    "# Day of the week exploratory plot\n",
    "\n",
    "concurrent_sessions<- concurrent_sessions|>\n",
    "mutate( day_of_week= factor (day_of_week , levels= c(\"Monday\", \"Tuesday\", \"Wednesday\", \"Thursday\", \"Friday\", \"Saturday\", \"Sunday\")))\n",
    "                                                      \n",
    "dayofweek_exploratory_plot<- ggplot(concurrent_sessions, aes(x= day_of_week, y= active_sessions))+\n",
    "geom_bar(stat= \"identity\", fill=\"green\")+\n",
    "labs(\n",
    "title=\"Total sessions by the day of week\",\n",
    "x=\"DAY OF WEEK\",\n",
    "y=\"Total Active sessions\")+\n",
    "theme_minimal()\n",
    "dayofweek_exploratory_plot\n"
   ]
  },
  {
   "cell_type": "code",
   "execution_count": null,
   "id": "6acb1e02-9f6c-440e-8b82-040ce64bd762",
   "metadata": {},
   "outputs": [],
   "source": [
    "#Show concurrent sessions by hour and day of week\n",
    "\n",
    "concurrent_sessions<- concurrent_sessions|>\n",
    "mutate(\n",
    "hour=hour(time),\n",
    "day_of_week= factor (day_of_week , levels= c(\"Monday\", \"Tuesday\", \"Wednesday\", \"Thursday\", \"Friday\", \"Saturday\", \"Sunday\")))\n",
    "\n",
    "Total_sessions_dayofweek <- ggplot(concurrent_sessions, aes(x=factor(hour), y= active_sessions))+\n",
    "geom_bar(stat= \"identity\", fill=\"pink\")+\n",
    "facet_wrap(~ day_of_week, ncol=1)+\n",
    "labs(\n",
    "title=\"Total sessions by the by hour by day\",\n",
    "x=\"hour of day\",\n",
    "y=\"Total Active sessions\")+\n",
    "theme_minimal()\n",
    "Total_sessions_dayofweek\n",
    "\n"
   ]
  },
  {
   "cell_type": "code",
   "execution_count": null,
   "id": "48dfabcb-1cda-4aec-b118-4479d7e7457e",
   "metadata": {},
   "outputs": [],
   "source": [
    "#Scatter plot of start_time_of_day vs. play_duration_minutes\n",
    "sessions_durations <-sessions_durations |>\n",
    "mutate(\n",
    " day_of_week= factor (day_of_week , levels= c(\"Monday\", \"Tuesday\", \"Wednesday\", \"Thursday\", \"Friday\", \"Saturday\", \"Sunday\")))\n",
    "head(sessions_durations)\n",
    "\n",
    "duration_scatter <- ggplot(sessions_durations , aes(x=start_time_of_day , y= play_duration_minutes ))+\n",
    "geom_point( alpha= 0.4, color=\"red\")+\n",
    "facet_wrap(~ day_of_week, ncol=1)+\n",
    "labs(\n",
    "title=\"session duration in minutes by the time of day\",\n",
    "x=\"hour of day\",\n",
    "y=\"duration of session (minutes)\")+\n",
    "theme_minimal()\n",
    "duration_scatter"
   ]
  },
  {
   "cell_type": "code",
   "execution_count": null,
   "id": "f4fc4726-0dcb-4d8a-bc36-474d3fc0bb2d",
   "metadata": {},
   "outputs": [],
   "source": [
    "#Bar chart play duration minutes vs day of the week \n",
    "avg_duration <- sessions_durations|>\n",
    "group_by(day_of_week)|>\n",
    "summarize(avg_play_duration = mean ( play_duration_minutes, na.rm= TRUE))\n",
    "\n",
    "duration_bar <- ggplot(avg_duration , aes(x= day_of_week  , y= avg_play_duration))+\n",
    "geom_col( fill=\"purple\")+\n",
    "labs(\n",
    "title=\"session duration in minutes by day of the week\",\n",
    "x=\"day of the week\",\n",
    "y=\"duration of session (minutes)\")+\n",
    "theme_minimal()\n",
    "duration_bar"
   ]
  },
  {
   "cell_type": "markdown",
   "id": "20e15ed1-20d1-4691-957d-f62e5503c07e",
   "metadata": {},
   "source": [
    "ANALYSIS OF HOURS REGARDLESS OF WEEK"
   ]
  },
  {
   "cell_type": "markdown",
   "id": "224c63b9-f6ed-4acc-81b0-50c2950da8b6",
   "metadata": {},
   "source": [
    "SPLITTING OUR DATA INTO TRAINING AND TESTING SET\n",
    "\n",
    "Before working on our model, I need to split our data into training and testing sets. \n",
    "\n",
    "Using initial_split to split our dataframe into 75% training and 25% testing, since it shuffles our data for us and ensures an constant proportion of each class is present in both. The 75-25 split allows us to train our model on as many data points as possible while also keeping enough data for effective testing later."
   ]
  },
  {
   "cell_type": "code",
   "execution_count": null,
   "id": "dc2630ba-087d-4231-9ae0-410f51a005e1",
   "metadata": {},
   "outputs": [],
   "source": [
    "#Training and testing split \n",
    "set.seed(2000)\n",
    "\n",
    "split_obj<- initial_split( concurrent_sessions, prop= 0.75)\n",
    "\n",
    "sessions_train <- training(split_obj)\n",
    "sessions_test <- testing(split_obj)\n",
    "\n",
    "x_train <- sessions_train|>\n",
    "select(hour)\n",
    "head(x_train)\n",
    "\n",
    "y_train<- sessions_train|>\n",
    "pull(active_sessions)\n",
    "head(y_train)\n",
    "\n",
    "x_test <- sessions_test|>\n",
    "select(hour)\n",
    "head(x_test)\n",
    "\n",
    "y_test<- sessions_test|>\n",
    "pull(active_sessions)\n",
    "head(y_test)"
   ]
  },
  {
   "cell_type": "markdown",
   "id": "f4926dc9-22f8-4c28-998e-58b31ee84827",
   "metadata": {},
   "source": [
    "In the above code, I split the data into a training set to build my model on, and a testing set to test it. Using initial_split allowed me to shuffle the data before splitting (removing bias and order) and stratify the data by diag so that an equal proportion of each is in each set."
   ]
  },
  {
   "cell_type": "markdown",
   "id": "d8d613c4-bd1f-4895-8701-1df1b3397d76",
   "metadata": {},
   "source": [
    "FINDING THE BEST K VALUE\n",
    "\n",
    "CREATING THE MODEL\n",
    "\n",
    "To create our model, these steps will be followed:\n",
    "\n",
    "Create a recipe that uses hour (predictor variable) to predict active sessions\n",
    "   \n",
    "Create a specification that uses k-nearest neighbors, with neighbors = tune() to perform cross-validation.\n",
    "\n",
    "Split the data into 5 equally sized chunks, known as folds.\n",
    "\n",
    "Create a workflow combining the first 2 steps, with tune_grid instead of fit.\n",
    "\n",
    "Repeat for each validation set for values of 1 ≤ $k$ ≤ 49"
   ]
  },
  {
   "cell_type": "code",
   "execution_count": null,
   "id": "a7e465f7-77b2-49e2-9786-f5bf7afff699",
   "metadata": {},
   "outputs": [],
   "source": [
    "# KNN- regression\n",
    "knn_recipe <- recipe(active_sessions ~ hour, data = sessions_train) |>\n",
    "  step_scale(all_predictors())|>\n",
    "  step_center(all_predictors())\n",
    "\n",
    "# Model specification\n",
    "knn_spec <- nearest_neighbor( mode = \"regression\", neighbors = tune() )|>\n",
    "  set_engine(\"kknn\")\n",
    "\n",
    "# Workflow\n",
    "knn_workflow <- workflow() |>\n",
    "  add_recipe(knn_recipe) |>\n",
    "  add_model(knn_spec)\n",
    "\n",
    "# Tuning grid: neighbors 1 to 49\n",
    "knn_grid <- tibble(neighbors = 1:49)\n",
    "\n",
    "# Resampling setup: 5-fold CV\n",
    "set.seed(2000)\n",
    "folds <- vfold_cv(sessions_train, v = 5)\n",
    "\n",
    "# Tune the model\n",
    "knn_tuned <- tune_grid( knn_workflow,\n",
    "  resamples = folds,\n",
    "  grid = knn_grid,\n",
    "  metrics = metric_set(rmse) )\n",
    "\n",
    "# Get best model\n",
    "best_knn <- knn_tuned |>\n",
    " select_best(\"rmse\")\n",
    "\n",
    "# Finalize workflow with best number of neighbors\n",
    "final_knn_workflow <- knn_workflow |>\n",
    "  finalize_workflow(best_knn)\n",
    "\n",
    "# Fit on full training data\n",
    "final_knn_fit <- final_knn_workflow |>\n",
    "  fit(data = sessions_train)\n",
    "\n",
    "# Predict on test data\n",
    "predictions <- predict(final_knn_fit, sessions_test) |>\n",
    "  bind_cols(sessions_test)\n",
    "\n",
    "# Calculate RMSE\n",
    "rmse(predictions, truth = active_sessions, estimate = .pred)"
   ]
  },
  {
   "cell_type": "code",
   "execution_count": null,
   "id": "b5cc46dd-e948-465f-83b3-e2169be1a27a",
   "metadata": {},
   "outputs": [],
   "source": [
    "# best rmse\n",
    "knn_tuned<-tune_grid(knn_workflow, resamples=folds, grid=knn_grid, metrics=metric_set(rmse))\n",
    "y_train<-pull(sessions_train, active_sessions)\n",
    "y_train"
   ]
  },
  {
   "cell_type": "code",
   "execution_count": null,
   "id": "550d4189-2bde-4c97-a39b-a975930d01fc",
   "metadata": {},
   "outputs": [],
   "source": [
    "sessions_test_preds<- predict(final_knn_fit, new_data=sessions_test)|>\n",
    "bind_cols(sessions_test)\n",
    "\n",
    "#view and predict RMSPE results\n",
    "rmse_result<-rmse(data=sessions_test_preds, truth=active_sessions, estimate=.pred)\n",
    "rmse_result$.estimate"
   ]
  },
  {
   "cell_type": "code",
   "execution_count": null,
   "id": "6ec5881b-815f-4c5e-89e1-dad2697e349c",
   "metadata": {},
   "outputs": [],
   "source": [
    "# predict on training data\n",
    "sessions_train_preds<- predict(final_knn_fit, new_data=sessions_train)|>\n",
    "bind_cols(sessions_train)"
   ]
  },
  {
   "cell_type": "markdown",
   "id": "425b251e-2ab4-4e45-aafd-9fcc254a7c6f",
   "metadata": {},
   "source": [
    "ANALYSIS SEPERATING WEEKENDS AND WEEKDAYS"
   ]
  },
  {
   "cell_type": "markdown",
   "id": "01bc1731-de1d-4fcb-91e3-f733828c9e08",
   "metadata": {},
   "source": [
    "This code performs K-Nearest Neighbors (KNN) regression to model and predict the number of active sessions (active_sessions) based on the hour of the day (hour) from the weekday_sessions dataset. First, a random seed is set for reproducibility, and the hour is extracted from a time column using the lubridate::hour() function. The dataset is then split into a training set (75%) and a testing set (25%) using initial_split(). A grid search is conducted over values of k from 1 to 49 using 5-fold cross-validation to find the value that minimizes RMSE (Root Mean Square Error). The best value of k is selected, and the final model is retrained on the full training set."
   ]
  },
  {
   "cell_type": "code",
   "execution_count": null,
   "id": "467564e9-aaea-4c97-8850-38ae7a07a28f",
   "metadata": {},
   "outputs": [],
   "source": [
    "# split weekday sessions \n",
    "set.seed(2000)  # Reproducibility\n",
    "\n",
    "# 75/25 split\n",
    "\n",
    "weekday_sessions <- weekday_sessions |>\n",
    "  mutate(hour = lubridate::hour(time))\n",
    "\n",
    "weekday_split <- initial_split(weekday_sessions, prop = 0.75)\n",
    "weekday_train <- training(weekday_split)\n",
    "weekday_test <- testing(weekday_split)\n",
    "weekday_train\n",
    "weekday_test\n",
    "\n",
    "weekday_recipe <- recipe(active_sessions ~ hour, data = weekday_train) |>\n",
    "step_scale(all_predictors())|>\n",
    "step_center(all_predictors())\n",
    "\n",
    "weekday_knn_spec <- nearest_neighbor( mode = \"regression\", neighbors = tune()) |>\n",
    "set_engine(\"kknn\")\n",
    "\n",
    "weekday_workflow <- workflow() |>\n",
    "  add_recipe(weekday_recipe) |>\n",
    "  add_model(knn_spec)\n",
    "\n",
    "knn_grid <- tibble(neighbors = 1:49)\n",
    "\n",
    "weekday_resamples <- vfold_cv(weekday_train, v = 5)\n",
    "\n",
    "weekday_tuned <- tune_grid(\n",
    "  weekday_workflow,\n",
    "  resamples = weekday_resamples,\n",
    "  grid = knn_grid,\n",
    "  metrics = metric_set(rmse))\n",
    "\n",
    "best_k <- select_best(weekday_tuned, \"rmse\")\n",
    "\n",
    "weekday_final_wf <- finalize_workflow(weekday_workflow, best_k)\n",
    "\n",
    "weekday_fit <- fit(weekday_final_wf, data = weekday_train)\n",
    "\n",
    "weekday_test_preds <- predict(weekday_fit, new_data = weekday_test) |>\n",
    "  bind_cols(weekday_test)\n",
    "\n",
    "# Calculate RMSE\n",
    "rmse(weekday_test_preds, truth = active_sessions, estimate = .pred)\n",
    "\n",
    "weekday_train_preds <- predict(weekday_fit, new_data = weekday_train) |>\n",
    "  bind_cols(weekday_train)"
   ]
  },
  {
   "cell_type": "markdown",
   "id": "aa654f17-4349-47a1-86db-b0a3d40fd44f",
   "metadata": {},
   "source": [
    "This code performs K-Nearest Neighbors (KNN) regression to model and predict the number of active sessions (active_sessions) based on the hour of the day (hour) from the weekend_sessions dataset. First, a random seed is set for reproducibility, and the hour is extracted from a time column using the lubridate::hour() function. The dataset is then split into a training set (75%) and a testing set (25%) using initial_split(). A grid search is conducted over values of k from 1 to 49 using 5-fold cross-validation to find the value that minimizes RMSE (Root Mean Square Error). The best value of k is selected, and the final model is retrained on the full training set."
   ]
  },
  {
   "cell_type": "code",
   "execution_count": null,
   "id": "4298031a-6369-4d8a-bad8-94101cff76be",
   "metadata": {},
   "outputs": [],
   "source": [
    "# for the weekends\n",
    "\n",
    "weekend_sessions <- weekend_sessions |>\n",
    "  mutate(hour = lubridate::hour(time))\n",
    "\n",
    "weekend_split <- initial_split(weekend_sessions, prop = 0.75)\n",
    "weekend_train <- training(weekend_split)\n",
    "weekend_test <- testing(weekend_split)\n",
    "weekend_train\n",
    "weekend_test\n",
    "\n",
    "weekend_recipe <- recipe(active_sessions ~ hour, data = weekend_train) |>\n",
    "step_scale(all_predictors())|>\n",
    "step_center(all_predictors())\n",
    "\n",
    "weekend_knn_spec <- nearest_neighbor( mode = \"regression\", neighbors = tune()) |>\n",
    "set_engine(\"kknn\")\n",
    "\n",
    "weekend_workflow <- workflow() |>\n",
    "  add_recipe(weekend_recipe) |>\n",
    "  add_model(knn_spec)\n",
    "\n",
    "knn_grid <- tibble(neighbors = 1:49)\n",
    "\n",
    "weekend_resamples <- vfold_cv(weekend_train, v = 5)\n",
    "\n",
    "weekend_tuned <- tune_grid(\n",
    "  weekend_workflow,\n",
    "  resamples = weekend_resamples,\n",
    "  grid = knn_grid,\n",
    "  metrics = metric_set(rmse))\n",
    "\n",
    "best_k <- select_best(weekend_tuned, \"rmse\")\n",
    "\n",
    "weekend_final_wf <- finalize_workflow(weekend_workflow, best_k)\n",
    "\n",
    "weekend_fit <- fit(weekend_final_wf, data = weekend_train)\n",
    "\n",
    "weekend_test_preds <- predict(weekend_fit, new_data = weekend_test) |>\n",
    "  bind_cols(weekend_test)\n",
    "\n",
    "# Calculate RMSE\n",
    "rmse(weekend_test_preds, truth = active_sessions, estimate = .pred)\n",
    "\n",
    "weekend_train_preds <- predict(weekend_fit, new_data = weekend_train) |>\n",
    "  bind_cols(weekend_train)"
   ]
  },
  {
   "cell_type": "code",
   "execution_count": null,
   "id": "5568d526-5f20-4b09-8d61-ed0562d07c4b",
   "metadata": {},
   "outputs": [],
   "source": [
    "# plot : maximumu concurrent seesions by the day of week\n",
    "\n",
    "# Compute max active sessions per day_of_week\n",
    "max_sessions <- concurrent_sessions %>%\n",
    "  group_by(day_of_week) %>%\n",
    "  summarise(max_active_sessions = max(active_sessions, na.rm = TRUE)) %>%\n",
    "  ungroup() %>%\n",
    "  mutate(day_of_week = factor(day_of_week,\n",
    "                             levels = c('Sunday', 'Monday', 'Tuesday', 'Wednesday', 'Thursday', 'Friday', 'Saturday')))\n",
    "\n",
    "# Plot\n",
    "maxconcurrent_weekday<-ggplot(max_sessions, aes(x = day_of_week, y = max_active_sessions)) +\n",
    "  geom_col(fill = \"steelblue\") +\n",
    "  labs(title = \"Maximum Concurrent Sessions by Day of Week\",\n",
    "       x = \"Day of Week\",\n",
    "       y = \"Maximum Active Sessions Recorded\") +\n",
    "  theme_minimal() +\n",
    "  theme(axis.text.x = element_text(angle = 45, hjust = 1))\n",
    "maxconcurrent_weekday\n"
   ]
  },
  {
   "cell_type": "markdown",
   "id": "db50d8ca-6d37-46f6-8c9b-e64cadab4290",
   "metadata": {},
   "source": [
    "The code below visualizes the relationship between the hour of the day and the number of active sessions using KNN regression predictions. First, it uses the trained final KNN model (final_knn_fit) to predict the number of active sessions for each row in the training data (sessions_train). These predictions are combined with the original data using bind_cols(). Then, it counts how many observations occur at each hour using count(hour), storing the result in count_data, and merges this count back into the predictions dataframe to use as a visual cue in the plot."
   ]
  },
  {
   "cell_type": "code",
   "execution_count": null,
   "id": "6161309c-1493-41c3-9932-73fd6bd12649",
   "metadata": {},
   "outputs": [],
   "source": [
    "# active sessions per hour\n",
    "# calculate sessions preds\n",
    "sessions_preds<-predict(final_knn_fit, new_data=sessions_train)|>\n",
    "bind_cols(sessions_train)\n",
    "\n",
    "# Calculate counts for each hour to size points\n",
    "count_data <- sessions_preds|>\n",
    "  count(hour)\n",
    "\n",
    "# Merge counts back to sessions_preds\n",
    "sessions_preds_counts <- sessions_preds|>\n",
    "  left_join(count_data, by = \"hour\")\n",
    "\n",
    "# Plot\n",
    "sessions_data_plot<-ggplot(sessions_preds_counts, aes(x = hour, y = active_sessions)) +\n",
    "  geom_point(aes(size = n), alpha = 0.4, shape = 16, fill = \"black\") +\n",
    "  geom_line(aes(y = .pred), color = \"blue\") +\n",
    "  scale_size_continuous(name = \"Count\") +\n",
    "  labs(title = \"Active Sessions Predictions by Time of Day\",\n",
    "       x = \"Hour of Day\",\n",
    "       y = \"Active Sessions\") +\n",
    "  theme_minimal() +\n",
    "  theme(legend.position = \"right\")\n",
    "sessions_data_plot"
   ]
  },
  {
   "cell_type": "markdown",
   "id": "a0698e4f-d8eb-428c-9db0-fd9176c4743b",
   "metadata": {},
   "source": [
    "DISCUSSION:\n",
    "\n",
    "WHAT WE WERE SUPPOSED TO FIND:\n",
    "Our project set out to investigate when peak usage occurs on a gaming platform by analyzing session data, with the goal of forecasting demand—specifically, identifying time windows with high numbers of concurrent users. This helps determine how many game licenses need to be available at different times to meet demand without over-provisioning.\n",
    "\n",
    "SUMMARY OF FINDINGS\n",
    "\n",
    "DAY OF THE WEEK TRANDS:\n",
    "The bar plot above shows the maximum number of concurrent sessions recorded for each day of the week. Sunday and Thursday stand out with the highest peak concurrent sessions, reaching 6. Saturday also shows elevated usage. Wednesday has the lowest peak, indicating lighter midweek traffic. This strongly suggests a weekend effect, with heavier usage on days when users are more likely to be off school or work. The high Thursday value may reflect users starting their weekend gaming earlier.\n",
    "\n",
    "HOURLY SESSION TRENDS:\n",
    "The dot plot above illustrates the distribution of active sessions by hour of day, with dot size indicating how frequently certain session levels occur. Very low activity is observed during early morning hours (12 AM–8 AM). Activity begins climbing in the late morning, rises steadily into the afternoon, and peaks between 6 PM and 10 PM. The single highest activity is centered around 8 PM, aligning with common evening leisure hours. The blue line overlay helps highlight the average trend, reinforcing that evenings are consistently the busiest period regardless of day.\n",
    "\n",
    "SESSION DURATION TRENDS:\n",
    "We also examined how long sessions last during different parts of the day: Longer gameplay sessions tend to occur in the afternoon and evening, when users have more uninterrupted time. Weekends (especially Saturday and Sunday) feature not only more sessions, but longer ones, suggesting immersive play. This finding helps further justify targeting infrastructure scaling around these time windows.\n",
    "\n",
    "AVERAGE DURATION BY THE DAY:\n",
    "Although not shown in the images above, we also analyzed average session duration per day: Friday and Saturday had the longest average play times.\n",
    "Sunday had many sessions, but they were slightly shorter—possibly due to users preparing for the week ahead.\n",
    "\n",
    "\n",
    "\n",
    "WAS THIS EXPECTED?\n",
    "\n",
    "Given that people usually go to sleep between midnight and the early hours of the morning, it makes natural that user activity would be quite low during the night. Usage naturally increases as more people log in during the day. The late afternoon and evening peak, particularly between 6 and 10 p.m., is in line with typical patterns of digital usage, when people use entertainment platforms after work or school. Additionally, we anticipated that the time of day by itself would be a powerful indicator of user activity, and it was. However, we discovered that the hour of the day alone was insufficient to adequately account for all usage patterns. For instance, on some days, particularly, the KNN model understated some of the hours of high demand. This points to some underfitting, as the model was unable to adequately represent the intricacy of user behavior based solely on time. It supported our hypothesis that other factors, such as the day of the week, are also quite important. We therefore expected that treating weekdays and weekends differently would be crucial, and this proved to be the case. We saw glaring disparities as soon as we began breaking down the data by day. Weekday usage patterns were more moderate and dispersed, but weekend usage peaks were more intensive and concentrated. We were better able to comprehend how user involvement changes based on when people are most likely to have spare time thanks to this distinction.\n",
    "\n",
    "\n",
    "IMPACT OF FINDINGS:\n",
    "\n",
    "These findings can have direct operational impact:\n",
    "\n",
    "License Planning: Knowing peak usage hours allows organizations to provision just enough licenses to meet demand without unnecessary over-purchasing.\n",
    "\n",
    "Scheduling: Staff or system resources (e.g., load balancing) can be optimized around high-traffic time windows.\n",
    "\n",
    "Monitoring & Scaling: Predictive models could be used in real time to trigger alerts or auto-scaling behaviors in digital environments."
   ]
  },
  {
   "cell_type": "markdown",
   "id": "5fd1bbc2-45f7-4bf3-b623-e3f7615474fb",
   "metadata": {},
   "source": [
    "REFERENCES:\n",
    "\n",
    "1. Get date-time in a different time zone — with_tz. (2025). Tidyverse.org. https://lubridate.tidyverse.org/reference/with_tz.html\n",
    "\n",
    "2. Guide to Logical Operators in R (OR, NOT and AND in R) | Built In. (n.d.). Builtin.com. https://builtin.com/data-science/and-in-r\n",
    "\n",
    "‌\n",
    "\n",
    "‌\n"
   ]
  },
  {
   "cell_type": "code",
   "execution_count": null,
   "id": "45a8565d-fbaa-47d7-9a92-f6cde36f637c",
   "metadata": {},
   "outputs": [],
   "source": []
  }
 ],
 "metadata": {
  "kernelspec": {
   "display_name": "R",
   "language": "R",
   "name": "ir"
  },
  "language_info": {
   "codemirror_mode": "r",
   "file_extension": ".r",
   "mimetype": "text/x-r-source",
   "name": "R",
   "pygments_lexer": "r",
   "version": "4.3.3"
  }
 },
 "nbformat": 4,
 "nbformat_minor": 5
}
